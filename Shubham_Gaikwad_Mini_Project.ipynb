{
 "cells": [
  {
   "cell_type": "markdown",
   "id": "d3564924-76a0-4724-8de6-70b4385d34f9",
   "metadata": {},
   "source": [
    "# Name : Shubham Nagesh Gaikwad\n",
    "# SUID : 216327540"
   ]
  },
  {
   "cell_type": "markdown",
   "id": "13adc292-1d80-4d47-a0d1-56eda4c5983d",
   "metadata": {},
   "source": [
    "## Project : Flower Data Analysis through AWS"
   ]
  },
  {
   "cell_type": "code",
   "execution_count": 164,
   "id": "4941173b-5fcd-47e0-a729-1135a67d7ce6",
   "metadata": {},
   "outputs": [],
   "source": [
    "# Importing Necessory Packages\n",
    "import requests\n",
    "import pandas as pd\n",
    "import json\n",
    "from tabulate import tabulate"
   ]
  },
  {
   "cell_type": "code",
   "execution_count": 165,
   "id": "4dd834f9-9442-4cf8-b3cb-0b84a6c3bff2",
   "metadata": {},
   "outputs": [
    {
     "name": "stdout",
     "output_type": "stream",
     "text": [
      "Requirement already satisfied: boto3 in c:\\users\\shubham\\appdata\\local\\programs\\python\\python311\\lib\\site-packages (1.34.88)\n",
      "Requirement already satisfied: botocore<1.35.0,>=1.34.88 in c:\\users\\shubham\\appdata\\local\\programs\\python\\python311\\lib\\site-packages (from boto3) (1.34.88)\n",
      "Requirement already satisfied: jmespath<2.0.0,>=0.7.1 in c:\\users\\shubham\\appdata\\local\\programs\\python\\python311\\lib\\site-packages (from boto3) (1.0.1)\n",
      "Requirement already satisfied: s3transfer<0.11.0,>=0.10.0 in c:\\users\\shubham\\appdata\\local\\programs\\python\\python311\\lib\\site-packages (from boto3) (0.10.1)\n",
      "Requirement already satisfied: python-dateutil<3.0.0,>=2.1 in c:\\users\\shubham\\appdata\\local\\programs\\python\\python311\\lib\\site-packages (from botocore<1.35.0,>=1.34.88->boto3) (2.8.2)\n",
      "Requirement already satisfied: urllib3!=2.2.0,<3,>=1.25.4 in c:\\users\\shubham\\appdata\\local\\programs\\python\\python311\\lib\\site-packages (from botocore<1.35.0,>=1.34.88->boto3) (2.0.4)\n",
      "Requirement already satisfied: six>=1.5 in c:\\users\\shubham\\appdata\\local\\programs\\python\\python311\\lib\\site-packages (from python-dateutil<3.0.0,>=2.1->botocore<1.35.0,>=1.34.88->boto3) (1.16.0)\n"
     ]
    }
   ],
   "source": [
    "# Package for AWS Connection\n",
    "!pip install boto3"
   ]
  },
  {
   "cell_type": "code",
   "execution_count": 101,
   "id": "140ed703-6bf1-475d-93b6-b69f464832c3",
   "metadata": {},
   "outputs": [],
   "source": [
    "import boto3"
   ]
  },
  {
   "cell_type": "code",
   "execution_count": 166,
   "id": "6459fb26-baef-4064-999e-aab49a1df335",
   "metadata": {},
   "outputs": [],
   "source": [
    "# Creating AWS Connection\n",
    "s3 = boto3.resource(\n",
    "    service_name = 's3',\n",
    "    region_name = 'us-east-2',\n",
    "    aws_access_key_id = 'xxxxxxxxxxxxxxxx',\n",
    "    aws_secret_access_key = 'xxxxxxxxxxxxx'\n",
    ")"
   ]
  },
  {
   "cell_type": "code",
   "execution_count": 103,
   "id": "7328b071-d9ca-4d7d-855f-2ca05f0ecc57",
   "metadata": {},
   "outputs": [
    {
     "name": "stdout",
     "output_type": "stream",
     "text": [
      "shubam0923project1\n",
      "shubham0923project2\n"
     ]
    }
   ],
   "source": [
    "# Enlisting Bucket names in my service\n",
    "for bucket in s3.buckets.all():\n",
    "    print(bucket.name)"
   ]
  },
  {
   "cell_type": "code",
   "execution_count": 136,
   "id": "02fb3917-4060-4b12-8a4f-f6f060882b8d",
   "metadata": {},
   "outputs": [
    {
     "name": "stdout",
     "output_type": "stream",
     "text": [
      "Flower-Classes to Flower Names Dictionary.json\n",
      "Flower_Price.json\n",
      "datasource1.json\n",
      "hindi_hits_from_1947_to_2022.json\n",
      "hindi_hits_from_1947_to_2022_ai_enhanced.json\n",
      "iris.json\n",
      "iris_2.json\n"
     ]
    }
   ],
   "source": [
    "# Enlisting content of bucket\n",
    "bucket = s3.Bucket('shubam0923project1')\n",
    "\n",
    "# Listing all objects within the bucket\n",
    "for obj in bucket.objects.all():\n",
    "    print(obj.key)"
   ]
  },
  {
   "cell_type": "code",
   "execution_count": 137,
   "id": "a90bcaa4-c167-4092-ba95-685aea816285",
   "metadata": {},
   "outputs": [],
   "source": [
    "\n",
    "import boto3\n",
    "import pandas as pd\n",
    "\n",
    "# Initialize the S3 resource\n",
    "s3 = boto3.resource(\n",
    "    's3',\n",
    "    region_name='us-east-2',\n",
    "    aws_access_key_id='xxxxxxxx',\n",
    "    aws_secret_access_key='AF9Raxxxxxxxxxxxxxxxxxxxxxxxx'\n",
    ")\n",
    "\n",
    "# Function to get content from files\n",
    "\n",
    "def load_json_to_df(bucket_name, file_key):\n",
    "    # Creating an S3 Object directly\n",
    "    obj = s3.Object(bucket_name, file_key)\n",
    "    \n",
    "    # Get the file's content\n",
    "    data = obj.get()['Body'].read().decode('utf-8')\n",
    "    \n",
    "    # Loading data into DataFrame\n",
    "    try:\n",
    "        df = pd.read_json(data, lines=True)\n",
    "    except ValueError:\n",
    "        df = pd.read_json(data)\n",
    "    \n",
    "    return df\n",
    "\n",
    "# Specifying your bucket and file\n",
    "bucket_name = 'shubam0923project1'\n",
    "file_key = 'iris.json'\n",
    "file_key2 = 'Flower_Price.json'"
   ]
  },
  {
   "cell_type": "code",
   "execution_count": 106,
   "id": "f55a1dfa-8476-491c-a854-bde179202e05",
   "metadata": {},
   "outputs": [
    {
     "name": "stdout",
     "output_type": "stream",
     "text": [
      "   sepalLength  sepalWidth  petalLength  petalWidth species\n",
      "0          5.1         3.5          1.4         0.2  setosa\n",
      "1          4.9         3.0          1.4         0.2  setosa\n",
      "2          4.7         3.2          1.3         0.2  setosa\n",
      "3          4.6         3.1          1.5         0.2  setosa\n",
      "4          5.0         3.6          1.4         0.2  setosa\n"
     ]
    },
    {
     "name": "stderr",
     "output_type": "stream",
     "text": [
      "C:\\Users\\shubham\\AppData\\Local\\Temp\\ipykernel_89588\\2427734377.py:22: FutureWarning: Passing literal json to 'read_json' is deprecated and will be removed in a future version. To read from a literal string, wrap it in a 'StringIO' object.\n",
      "  df = pd.read_json(data, lines=True)\n",
      "C:\\Users\\shubham\\AppData\\Local\\Temp\\ipykernel_89588\\2427734377.py:25: FutureWarning: Passing literal json to 'read_json' is deprecated and will be removed in a future version. To read from a literal string, wrap it in a 'StringIO' object.\n",
      "  df = pd.read_json(data)\n"
     ]
    }
   ],
   "source": [
    "# Loading the JSON data into a DataFrame\n",
    "df = load_json_to_df(bucket_name, file_key)\n",
    "\n",
    "# Printing the first few rows of the DataFrame to verify\n",
    "print(df.head())"
   ]
  },
  {
   "cell_type": "code",
   "execution_count": 138,
   "id": "3c93101d-9deb-4e43-9ec3-e91226506cb3",
   "metadata": {},
   "outputs": [
    {
     "name": "stdout",
     "output_type": "stream",
     "text": [
      "      species  Price\n",
      "0      setosa     56\n",
      "1  versicolor     34\n",
      "2   virginica     12\n"
     ]
    },
    {
     "name": "stderr",
     "output_type": "stream",
     "text": [
      "C:\\Users\\shubham\\AppData\\Local\\Temp\\ipykernel_89588\\1497944103.py:22: FutureWarning: Passing literal json to 'read_json' is deprecated and will be removed in a future version. To read from a literal string, wrap it in a 'StringIO' object.\n",
      "  df = pd.read_json(data, lines=True)\n",
      "C:\\Users\\shubham\\AppData\\Local\\Temp\\ipykernel_89588\\1497944103.py:25: FutureWarning: Passing literal json to 'read_json' is deprecated and will be removed in a future version. To read from a literal string, wrap it in a 'StringIO' object.\n",
      "  df = pd.read_json(data)\n"
     ]
    }
   ],
   "source": [
    "# Loading the JSON data into a DataFrame\n",
    "df2 = load_json_to_df(bucket_name, file_key2)\n",
    "\n",
    "# Printing the first few rows of the DataFrame to verify\n",
    "print(df2.head())"
   ]
  },
  {
   "cell_type": "code",
   "execution_count": 108,
   "id": "35e653b7-16f8-4144-ae10-ef92358c74f1",
   "metadata": {},
   "outputs": [],
   "source": [
    "# Converting to pandas dataframe\n",
    "df3 = pd.DataFrame(df)"
   ]
  },
  {
   "cell_type": "code",
   "execution_count": 109,
   "id": "96cf5410-e857-4993-b84f-909a7a28566e",
   "metadata": {},
   "outputs": [
    {
     "name": "stdout",
     "output_type": "stream",
     "text": [
      "   sepalLength  sepalWidth  petalLength  petalWidth species\n",
      "0          5.1         3.5          1.4         0.2  setosa\n",
      "1          4.9         3.0          1.4         0.2  setosa\n",
      "2          4.7         3.2          1.3         0.2  setosa\n",
      "3          4.6         3.1          1.5         0.2  setosa\n",
      "4          5.0         3.6          1.4         0.2  setosa\n"
     ]
    }
   ],
   "source": [
    "print(df3.head())"
   ]
  },
  {
   "cell_type": "code",
   "execution_count": 139,
   "id": "9c9c7e2d-b283-4741-a191-44f39cf77d53",
   "metadata": {},
   "outputs": [
    {
     "name": "stdout",
     "output_type": "stream",
     "text": [
      "      species  Price\n",
      "0      setosa     56\n",
      "1  versicolor     34\n",
      "2   virginica     12\n"
     ]
    }
   ],
   "source": [
    "df4 = pd.DataFrame(df2)\n",
    "print(df4.head())"
   ]
  },
  {
   "cell_type": "code",
   "execution_count": 116,
   "id": "f5d6e0f8-2388-43aa-90d9-e1eea5f2b649",
   "metadata": {},
   "outputs": [
    {
     "name": "stdout",
     "output_type": "stream",
     "text": [
      "+-----+---------------+--------------+---------------+--------------+-----------+\n",
      "|     |   sepalLength |   sepalWidth |   petalLength |   petalWidth | species   |\n",
      "|-----+---------------+--------------+---------------+--------------+-----------|\n",
      "| 145 |           6.7 |          3   |           5.2 |          2.3 | virginica |\n",
      "| 146 |           6.3 |          2.5 |           5   |          1.9 | virginica |\n",
      "| 147 |           6.5 |          3   |           5.2 |          2   | virginica |\n",
      "| 148 |           6.2 |          3.4 |           5.4 |          2.3 | virginica |\n",
      "| 149 |           5.9 |          3   |           5.1 |          1.8 | virginica |\n",
      "+-----+---------------+--------------+---------------+--------------+-----------+\n"
     ]
    }
   ],
   "source": [
    "print(tabulate(df3.tail(5), headers='keys', tablefmt='psql'))"
   ]
  },
  {
   "cell_type": "code",
   "execution_count": 142,
   "id": "dd1e4afd-c761-4c8d-a6e5-24d1e2b9d058",
   "metadata": {},
   "outputs": [
    {
     "name": "stdout",
     "output_type": "stream",
     "text": [
      "+----+------------+---------+\n",
      "|    | species    |   Price |\n",
      "|----+------------+---------|\n",
      "|  0 | setosa     |      56 |\n",
      "|  1 | versicolor |      34 |\n",
      "|  2 | virginica  |      12 |\n",
      "+----+------------+---------+\n"
     ]
    }
   ],
   "source": [
    "print(tabulate(df4.head(5), headers='keys', tablefmt='psql'))"
   ]
  },
  {
   "cell_type": "markdown",
   "id": "3da298cc-55c8-4f57-b2e0-767579cac42a",
   "metadata": {},
   "source": [
    "# Data Cleaning And Preparation"
   ]
  },
  {
   "cell_type": "code",
   "execution_count": 168,
   "id": "e776936d-fc60-4916-acff-6d01c82cefd6",
   "metadata": {},
   "outputs": [
    {
     "name": "stdout",
     "output_type": "stream",
     "text": [
      "sepalLength        0\n",
      "sepalWidth         0\n",
      "petalLength        0\n",
      "petalWidth         0\n",
      "species            0\n",
      "sepalLength_cat    0\n",
      "dtype: int64\n"
     ]
    }
   ],
   "source": [
    "# Check for missing values\n",
    "print(df3.isnull().sum())\n",
    "\n",
    "# Option 1: Fill missing values with the mean (for numerical columns) or mode (for categorical columns)\n",
    "for column in df3.select_dtypes(include=['float', 'int']).columns:\n",
    "    df3[column].fillna(df3[column].mean(), inplace=True)\n",
    "\n",
    "for column in df3.select_dtypes(include=['object']).columns:\n",
    "    df3[column].fillna(df3[column].mode()[0], inplace=True)\n"
   ]
  },
  {
   "cell_type": "code",
   "execution_count": 144,
   "id": "17954330-ea37-4234-97e8-80244547ef02",
   "metadata": {},
   "outputs": [],
   "source": [
    "# Summarizing Numerical Data\n",
    "summary_numeric_df3 = df3.describe()\n",
    "summary_numeric_df4 = df4.describe() "
   ]
  },
  {
   "cell_type": "code",
   "execution_count": 146,
   "id": "3df72310-abb3-40e2-b296-70cbdd8bcda0",
   "metadata": {},
   "outputs": [],
   "source": [
    "# Summarizing Categorical Data\n",
    "summary_categorical_df3 = df3.describe(include=[object])\n",
    "summary_categorical_df4 = df4.describe()"
   ]
  },
  {
   "cell_type": "code",
   "execution_count": 147,
   "id": "d667331b-8219-4c45-b6ec-996082bcf0f1",
   "metadata": {},
   "outputs": [
    {
     "name": "stdout",
     "output_type": "stream",
     "text": [
      "Summary of numeric columns in First File:\n",
      "       sepalLength  sepalWidth  petalLength  petalWidth\n",
      "count   150.000000  150.000000   150.000000  150.000000\n",
      "mean      5.843333    3.057333     3.758000    1.199333\n",
      "std       0.828066    0.435866     1.765298    0.762238\n",
      "min       4.300000    2.000000     1.000000    0.100000\n",
      "25%       5.100000    2.800000     1.600000    0.300000\n",
      "50%       5.800000    3.000000     4.350000    1.300000\n",
      "75%       6.400000    3.300000     5.100000    1.800000\n",
      "max       7.900000    4.400000     6.900000    2.500000\n",
      "\n",
      "Summary of categorical columns in  First File:\n",
      "       species\n",
      "count      150\n",
      "unique       3\n",
      "top     setosa\n",
      "freq        50\n",
      "\n",
      "Summary of numeric columns in Second File:\n",
      "       Price\n",
      "count    3.0\n",
      "mean    34.0\n",
      "std     22.0\n",
      "min     12.0\n",
      "25%     23.0\n",
      "50%     34.0\n",
      "75%     45.0\n",
      "max     56.0\n",
      "\n",
      "Summary of categorical columns in Second File:\n",
      "       Price\n",
      "count    3.0\n",
      "mean    34.0\n",
      "std     22.0\n",
      "min     12.0\n",
      "25%     23.0\n",
      "50%     34.0\n",
      "75%     45.0\n",
      "max     56.0\n"
     ]
    }
   ],
   "source": [
    "print(\"Summary of numeric columns in First File:\")\n",
    "print(summary_numeric_df3)\n",
    "print(\"\\nSummary of categorical columns in  First File:\")\n",
    "print(summary_categorical_df3)\n",
    "\n",
    "print(\"\\nSummary of numeric columns in Second File:\")\n",
    "print(summary_numeric_df4)\n",
    "print(\"\\nSummary of categorical columns in Second File:\")\n",
    "print(summary_categorical_df4)"
   ]
  },
  {
   "cell_type": "code",
   "execution_count": 133,
   "id": "5c44191c-7112-4a2e-9694-49425fcbd1cc",
   "metadata": {},
   "outputs": [
    {
     "name": "stderr",
     "output_type": "stream",
     "text": [
      "C:\\Users\\shubham\\AppData\\Local\\Temp\\ipykernel_89588\\1712497034.py:10: FutureWarning: The default of observed=False is deprecated and will be changed to True in a future version of pandas. Pass observed=False to retain current behavior or observed=True to adopt the future default and silence this warning.\n",
      "  detailed_stats = df3.groupby(['sepalLength_cat', 'species']).mean()\n"
     ]
    },
    {
     "name": "stdout",
     "output_type": "stream",
     "text": [
      "Grouped Means by Species:\n",
      "            sepalLength  sepalWidth  petalLength  petalWidth\n",
      "species                                                     \n",
      "setosa            5.006       3.428        1.462       0.246\n",
      "versicolor        5.936       2.770        4.260       1.326\n",
      "virginica         6.588       2.974        5.552       2.026\n",
      "\n",
      "Sepal Length Distribution:\n",
      "sepalLength_cat\n",
      "long     91\n",
      "short    59\n",
      "Name: count, dtype: int64\n",
      "\n",
      "Detailed Statistics by Sepal Length Category and Species:\n",
      "                            sepalLength  sepalWidth  petalLength  petalWidth\n",
      "sepalLength_cat species                                                     \n",
      "short           setosa         4.959574    3.387234     1.461702    0.242553\n",
      "                versicolor     5.281818    2.463636     3.763636    1.172727\n",
      "                virginica      4.900000    2.500000     4.500000    1.700000\n",
      "long            setosa         5.733333    4.066667     1.466667    0.300000\n",
      "                versicolor     6.120513    2.856410     4.400000    1.369231\n",
      "                virginica      6.622449    2.983673     5.573469    2.032653\n"
     ]
    }
   ],
   "source": [
    "# Categorical Analysis\n",
    "\n",
    "grouped_mean = df3.groupby('species').mean()\n",
    "\n",
    "# Categorizing data based on some criteria; categorizing sepal length as 'short' or 'long'\n",
    "df3['sepalLength_cat'] = pd.cut(df3['sepalLength'], bins=[0, 5.5, max(df3['sepalLength'])], labels=['short', 'long'])\n",
    "\n",
    "# Statistics - aggregate counts of each category\n",
    "sepal_length_distribution = df3['sepalLength_cat'].value_counts()\n",
    "\n",
    "# More detailed statistics, grouping by the new category and species\n",
    "detailed_stats = df3.groupby(['sepalLength_cat', 'species']).mean()\n",
    "\n",
    "print(\"Grouped Means by Species:\")\n",
    "print(grouped_mean)\n",
    "print(\"\\nSepal Length Distribution:\")\n",
    "print(sepal_length_distribution)\n",
    "print(\"\\nDetailed Statistics by Sepal Length Category and Species:\")\n",
    "print(detailed_stats)"
   ]
  },
  {
   "cell_type": "code",
   "execution_count": 148,
   "id": "c401a5f8-f412-4b29-85e4-11d6a998b3ca",
   "metadata": {},
   "outputs": [],
   "source": [
    "# Joining two dataframes\n",
    "result_df = pd.merge(df4, df3, left_on='species', right_on='species', how='inner')"
   ]
  },
  {
   "cell_type": "code",
   "execution_count": 149,
   "id": "844ea41a-0797-4941-ac46-43b8b2c20a50",
   "metadata": {},
   "outputs": [
    {
     "data": {
      "text/html": [
       "<div>\n",
       "<style scoped>\n",
       "    .dataframe tbody tr th:only-of-type {\n",
       "        vertical-align: middle;\n",
       "    }\n",
       "\n",
       "    .dataframe tbody tr th {\n",
       "        vertical-align: top;\n",
       "    }\n",
       "\n",
       "    .dataframe thead th {\n",
       "        text-align: right;\n",
       "    }\n",
       "</style>\n",
       "<table border=\"1\" class=\"dataframe\">\n",
       "  <thead>\n",
       "    <tr style=\"text-align: right;\">\n",
       "      <th></th>\n",
       "      <th>species</th>\n",
       "      <th>Price</th>\n",
       "      <th>sepalLength</th>\n",
       "      <th>sepalWidth</th>\n",
       "      <th>petalLength</th>\n",
       "      <th>petalWidth</th>\n",
       "      <th>sepalLength_cat</th>\n",
       "    </tr>\n",
       "  </thead>\n",
       "  <tbody>\n",
       "    <tr>\n",
       "      <th>0</th>\n",
       "      <td>setosa</td>\n",
       "      <td>56</td>\n",
       "      <td>5.1</td>\n",
       "      <td>3.5</td>\n",
       "      <td>1.4</td>\n",
       "      <td>0.2</td>\n",
       "      <td>short</td>\n",
       "    </tr>\n",
       "    <tr>\n",
       "      <th>1</th>\n",
       "      <td>setosa</td>\n",
       "      <td>56</td>\n",
       "      <td>4.9</td>\n",
       "      <td>3.0</td>\n",
       "      <td>1.4</td>\n",
       "      <td>0.2</td>\n",
       "      <td>short</td>\n",
       "    </tr>\n",
       "    <tr>\n",
       "      <th>2</th>\n",
       "      <td>setosa</td>\n",
       "      <td>56</td>\n",
       "      <td>4.7</td>\n",
       "      <td>3.2</td>\n",
       "      <td>1.3</td>\n",
       "      <td>0.2</td>\n",
       "      <td>short</td>\n",
       "    </tr>\n",
       "    <tr>\n",
       "      <th>3</th>\n",
       "      <td>setosa</td>\n",
       "      <td>56</td>\n",
       "      <td>4.6</td>\n",
       "      <td>3.1</td>\n",
       "      <td>1.5</td>\n",
       "      <td>0.2</td>\n",
       "      <td>short</td>\n",
       "    </tr>\n",
       "    <tr>\n",
       "      <th>4</th>\n",
       "      <td>setosa</td>\n",
       "      <td>56</td>\n",
       "      <td>5.0</td>\n",
       "      <td>3.6</td>\n",
       "      <td>1.4</td>\n",
       "      <td>0.2</td>\n",
       "      <td>short</td>\n",
       "    </tr>\n",
       "  </tbody>\n",
       "</table>\n",
       "</div>"
      ],
      "text/plain": [
       "  species  Price  sepalLength  sepalWidth  petalLength  petalWidth  \\\n",
       "0  setosa     56          5.1         3.5          1.4         0.2   \n",
       "1  setosa     56          4.9         3.0          1.4         0.2   \n",
       "2  setosa     56          4.7         3.2          1.3         0.2   \n",
       "3  setosa     56          4.6         3.1          1.5         0.2   \n",
       "4  setosa     56          5.0         3.6          1.4         0.2   \n",
       "\n",
       "  sepalLength_cat  \n",
       "0           short  \n",
       "1           short  \n",
       "2           short  \n",
       "3           short  \n",
       "4           short  "
      ]
     },
     "execution_count": 149,
     "metadata": {},
     "output_type": "execute_result"
    }
   ],
   "source": [
    "result_df.head(5)"
   ]
  },
  {
   "cell_type": "code",
   "execution_count": 167,
   "id": "8fd5382d-4bf6-4f83-aecc-c3c65e962c87",
   "metadata": {},
   "outputs": [],
   "source": [
    "# Downloading Merged File\n",
    "\n",
    "result_df.to_csv('FlowerDataMerged.csv', index=False)"
   ]
  },
  {
   "cell_type": "markdown",
   "id": "050a4721-3fb1-47a4-9a55-daa4425f5bfe",
   "metadata": {},
   "source": [
    "# Exploratory Data Analysis"
   ]
  },
  {
   "cell_type": "code",
   "execution_count": 174,
   "id": "5d9d80de-ecfa-4c3c-80de-fb8fe92095ff",
   "metadata": {},
   "outputs": [],
   "source": [
    "# Visualization for Data Analysis\n",
    "\n",
    "import matplotlib.pyplot as plt\n",
    "import seaborn as sns\n",
    "\n",
    "# Setting the aesthetic style of the plots\n",
    "sns.set(style=\"whitegrid\")\n",
    "\n",
    "# # Histograms for numerical data in df3\n",
    "# df3_numeric = df3.select_dtypes(include=['float64', 'int64'])\n",
    "# for column in df3_numeric.columns:\n",
    "#     plt.figure(figsize=(10, 5))\n",
    "#     sns.histplot(df3[column], kde=True)\n",
    "#     plt.title(f'Histogram of {column} in df3')\n",
    "#     plt.xlabel(column)\n",
    "#     plt.ylabel('Frequency')\n",
    "#     plt.show()\n",
    "\n",
    "# # Box plots for numerical data in df4\n",
    "# df4_numeric = df4.select_dtypes(include=['float64', 'int64'])\n",
    "# for column in df4_numeric.columns:\n",
    "#     plt.figure(figsize=(10, 5))\n",
    "#     sns.boxplot(x=df4[column])\n",
    "#     plt.title(f'Box plot of {column} in df4')\n",
    "#     plt.xlabel(column)\n",
    "#     plt.ylabel('Value')\n",
    "#     plt.show()\n",
    "\n",
    "# Scatter plot between two variables\n",
    "if 'variable1' in df3.columns and 'variable2' in df3.columns:\n",
    "    plt.figure(figsize=(10, 6))\n",
    "    sns.scatterplot(data=df3, x='variable1', y='variable2')\n",
    "    plt.title('Scatter plot between variable1 and variable2 in df3')\n",
    "    plt.xlabel('variable1')\n",
    "    plt.ylabel('variable2')\n",
    "    plt.show()\n"
   ]
  },
  {
   "cell_type": "code",
   "execution_count": 156,
   "id": "f7f92776-88f3-4364-a338-d11af943cdf0",
   "metadata": {},
   "outputs": [
    {
     "data": {
      "image/png": "[encoded data removed]",
      "text/plain": [
       "<Figure size 1000x600 with 1 Axes>"
      ]
     },
     "metadata": {},
     "output_type": "display_data"
    },
    {
     "data": {
      "image/png": "[encoded data removed]",
      "text/plain": [
       "<Figure size 1000x600 with 1 Axes>"
      ]
     },
     "metadata": {},
     "output_type": "display_data"
    }
   ],
   "source": [
    "# Visualization to understand Relationships\n",
    "import seaborn as sns\n",
    "import matplotlib.pyplot as plt\n",
    "\n",
    "plt.figure(figsize=(10, 6))\n",
    "sns.scatterplot(data=result_df, x='petalLength', y='Price')\n",
    "plt.title('Relationship between Petal Length and Price')\n",
    "plt.xlabel('Petal Length')\n",
    "plt.ylabel('Price')\n",
    "plt.show()\n",
    "\n",
    "\n",
    "plt.figure(figsize=(10, 6))\n",
    "sns.scatterplot(data=result_df, x='petalWidth', y='Price')\n",
    "plt.title('Relationship between Petal Width and Price')\n",
    "plt.xlabel('Petal Width')\n",
    "plt.ylabel('Price')\n",
    "plt.show()\n",
    "\n"
   ]
  },
  {
   "cell_type": "code",
   "execution_count": 161,
   "id": "46c82aba-68b0-4ac8-ba92-404a8129f5a6",
   "metadata": {},
   "outputs": [
    {
     "data": {
      "image/png": "[encoded data removed]",
      "text/plain": [
       "<Figure size 1000x800 with 2 Axes>"
      ]
     },
     "metadata": {},
     "output_type": "display_data"
    }
   ],
   "source": [
    "# Correlation Matrix - to understand the correlation in features\n",
    "\n",
    "structural_attributes = ['Price', 'petalLength', 'petalWidth', 'sepalLength', 'sepalWidth']\n",
    "correlation_matrix = result_df[structural_attributes].corr()\n",
    "\n",
    "# Plotting the correlation matrix\n",
    "plt.figure(figsize=(10, 8))\n",
    "sns.heatmap(correlation_matrix, annot=True, cmap='coolwarm')\n",
    "plt.title('Correlation Matrix of Price and Structural Attributes')\n",
    "plt.show()\n"
   ]
  },
  {
   "cell_type": "code",
   "execution_count": 163,
   "id": "0611da7f-a76b-4912-bb8c-bb1bf9d2fabd",
   "metadata": {},
   "outputs": [
    {
     "name": "stdout",
     "output_type": "stream",
     "text": [
      "Mean squared error: 0.00\n",
      "Coefficient of determination (R^2): 1.00\n"
     ]
    }
   ],
   "source": [
    "from sklearn.linear_model import LinearRegression\n",
    "from sklearn.model_selection import train_test_split\n",
    "from sklearn.metrics import mean_squared_error, r2_score\n",
    "\n",
    "# Preparing the data\n",
    "X = result_df[['Price', 'petalLength', 'petalWidth', 'sepalLength', 'sepalWidth']]  # Predictor variables\n",
    "y = result_df['Price']  # Response variable\n",
    "\n",
    "# Splitting the data into training and testing sets\n",
    "X_train, X_test, y_train, y_test = train_test_split(X, y, test_size=0.2, random_state=42)\n",
    "\n",
    "# Creating a linear regression model\n",
    "model = LinearRegression()\n",
    "model.fit(X_train, y_train)\n",
    "\n",
    "# Making predictions\n",
    "y_pred = model.predict(X_test)\n",
    "\n",
    "# Evaluating the model\n",
    "print(\"Mean squared error: {:.2f}\".format(mean_squared_error(y_test, y_pred)))\n",
    "print(\"Coefficient of determination (R^2): {:.2f}\".format(r2_score(y_test, y_pred)))\n"
   ]
  }
 ],
 "metadata": {
  "kernelspec": {
   "display_name": "Python 3 (ipykernel)",
   "language": "python",
   "name": "python3"
  },
  "language_info": {
   "codemirror_mode": {
    "name": "ipython",
    "version": 3
   },
   "file_extension": ".py",
   "mimetype": "text/x-python",
   "name": "python",
   "nbconvert_exporter": "python",
   "pygments_lexer": "ipython3",
   "version": "3.11.5"
  }
 },
 "nbformat": 4,
 "nbformat_minor": 5
}
